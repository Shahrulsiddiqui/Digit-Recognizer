{
 "cells": [
  {
   "cell_type": "code",
   "execution_count": 1,
   "metadata": {},
   "outputs": [],
   "source": [
    "import numpy as np\n",
    "import pandas as pd\n",
    "import matplotlib.pyplot as plt"
   ]
  },
  {
   "cell_type": "code",
   "execution_count": 2,
   "metadata": {},
   "outputs": [],
   "source": [
    "data = pd.read_csv('train.csv')"
   ]
  },
  {
   "cell_type": "code",
   "execution_count": 3,
   "metadata": {},
   "outputs": [
    {
     "data": {
      "text/html": [
       "<div>\n",
       "<style scoped>\n",
       "    .dataframe tbody tr th:only-of-type {\n",
       "        vertical-align: middle;\n",
       "    }\n",
       "\n",
       "    .dataframe tbody tr th {\n",
       "        vertical-align: top;\n",
       "    }\n",
       "\n",
       "    .dataframe thead th {\n",
       "        text-align: right;\n",
       "    }\n",
       "</style>\n",
       "<table border=\"1\" class=\"dataframe\">\n",
       "  <thead>\n",
       "    <tr style=\"text-align: right;\">\n",
       "      <th></th>\n",
       "      <th>label</th>\n",
       "      <th>pixel0</th>\n",
       "      <th>pixel1</th>\n",
       "      <th>pixel2</th>\n",
       "      <th>pixel3</th>\n",
       "      <th>pixel4</th>\n",
       "      <th>pixel5</th>\n",
       "      <th>pixel6</th>\n",
       "      <th>pixel7</th>\n",
       "      <th>pixel8</th>\n",
       "      <th>...</th>\n",
       "      <th>pixel774</th>\n",
       "      <th>pixel775</th>\n",
       "      <th>pixel776</th>\n",
       "      <th>pixel777</th>\n",
       "      <th>pixel778</th>\n",
       "      <th>pixel779</th>\n",
       "      <th>pixel780</th>\n",
       "      <th>pixel781</th>\n",
       "      <th>pixel782</th>\n",
       "      <th>pixel783</th>\n",
       "    </tr>\n",
       "  </thead>\n",
       "  <tbody>\n",
       "    <tr>\n",
       "      <th>0</th>\n",
       "      <td>1</td>\n",
       "      <td>0</td>\n",
       "      <td>0</td>\n",
       "      <td>0</td>\n",
       "      <td>0</td>\n",
       "      <td>0</td>\n",
       "      <td>0</td>\n",
       "      <td>0</td>\n",
       "      <td>0</td>\n",
       "      <td>0</td>\n",
       "      <td>...</td>\n",
       "      <td>0</td>\n",
       "      <td>0</td>\n",
       "      <td>0</td>\n",
       "      <td>0</td>\n",
       "      <td>0</td>\n",
       "      <td>0</td>\n",
       "      <td>0</td>\n",
       "      <td>0</td>\n",
       "      <td>0</td>\n",
       "      <td>0</td>\n",
       "    </tr>\n",
       "    <tr>\n",
       "      <th>1</th>\n",
       "      <td>0</td>\n",
       "      <td>0</td>\n",
       "      <td>0</td>\n",
       "      <td>0</td>\n",
       "      <td>0</td>\n",
       "      <td>0</td>\n",
       "      <td>0</td>\n",
       "      <td>0</td>\n",
       "      <td>0</td>\n",
       "      <td>0</td>\n",
       "      <td>...</td>\n",
       "      <td>0</td>\n",
       "      <td>0</td>\n",
       "      <td>0</td>\n",
       "      <td>0</td>\n",
       "      <td>0</td>\n",
       "      <td>0</td>\n",
       "      <td>0</td>\n",
       "      <td>0</td>\n",
       "      <td>0</td>\n",
       "      <td>0</td>\n",
       "    </tr>\n",
       "    <tr>\n",
       "      <th>2</th>\n",
       "      <td>1</td>\n",
       "      <td>0</td>\n",
       "      <td>0</td>\n",
       "      <td>0</td>\n",
       "      <td>0</td>\n",
       "      <td>0</td>\n",
       "      <td>0</td>\n",
       "      <td>0</td>\n",
       "      <td>0</td>\n",
       "      <td>0</td>\n",
       "      <td>...</td>\n",
       "      <td>0</td>\n",
       "      <td>0</td>\n",
       "      <td>0</td>\n",
       "      <td>0</td>\n",
       "      <td>0</td>\n",
       "      <td>0</td>\n",
       "      <td>0</td>\n",
       "      <td>0</td>\n",
       "      <td>0</td>\n",
       "      <td>0</td>\n",
       "    </tr>\n",
       "    <tr>\n",
       "      <th>3</th>\n",
       "      <td>4</td>\n",
       "      <td>0</td>\n",
       "      <td>0</td>\n",
       "      <td>0</td>\n",
       "      <td>0</td>\n",
       "      <td>0</td>\n",
       "      <td>0</td>\n",
       "      <td>0</td>\n",
       "      <td>0</td>\n",
       "      <td>0</td>\n",
       "      <td>...</td>\n",
       "      <td>0</td>\n",
       "      <td>0</td>\n",
       "      <td>0</td>\n",
       "      <td>0</td>\n",
       "      <td>0</td>\n",
       "      <td>0</td>\n",
       "      <td>0</td>\n",
       "      <td>0</td>\n",
       "      <td>0</td>\n",
       "      <td>0</td>\n",
       "    </tr>\n",
       "    <tr>\n",
       "      <th>4</th>\n",
       "      <td>0</td>\n",
       "      <td>0</td>\n",
       "      <td>0</td>\n",
       "      <td>0</td>\n",
       "      <td>0</td>\n",
       "      <td>0</td>\n",
       "      <td>0</td>\n",
       "      <td>0</td>\n",
       "      <td>0</td>\n",
       "      <td>0</td>\n",
       "      <td>...</td>\n",
       "      <td>0</td>\n",
       "      <td>0</td>\n",
       "      <td>0</td>\n",
       "      <td>0</td>\n",
       "      <td>0</td>\n",
       "      <td>0</td>\n",
       "      <td>0</td>\n",
       "      <td>0</td>\n",
       "      <td>0</td>\n",
       "      <td>0</td>\n",
       "    </tr>\n",
       "  </tbody>\n",
       "</table>\n",
       "<p>5 rows × 785 columns</p>\n",
       "</div>"
      ],
      "text/plain": [
       "   label  pixel0  pixel1  pixel2  pixel3  pixel4  pixel5  pixel6  pixel7  \\\n",
       "0      1       0       0       0       0       0       0       0       0   \n",
       "1      0       0       0       0       0       0       0       0       0   \n",
       "2      1       0       0       0       0       0       0       0       0   \n",
       "3      4       0       0       0       0       0       0       0       0   \n",
       "4      0       0       0       0       0       0       0       0       0   \n",
       "\n",
       "   pixel8  ...  pixel774  pixel775  pixel776  pixel777  pixel778  pixel779  \\\n",
       "0       0  ...         0         0         0         0         0         0   \n",
       "1       0  ...         0         0         0         0         0         0   \n",
       "2       0  ...         0         0         0         0         0         0   \n",
       "3       0  ...         0         0         0         0         0         0   \n",
       "4       0  ...         0         0         0         0         0         0   \n",
       "\n",
       "   pixel780  pixel781  pixel782  pixel783  \n",
       "0         0         0         0         0  \n",
       "1         0         0         0         0  \n",
       "2         0         0         0         0  \n",
       "3         0         0         0         0  \n",
       "4         0         0         0         0  \n",
       "\n",
       "[5 rows x 785 columns]"
      ]
     },
     "execution_count": 3,
     "metadata": {},
     "output_type": "execute_result"
    }
   ],
   "source": [
    "data.head()"
   ]
  },
  {
   "cell_type": "code",
   "execution_count": 4,
   "metadata": {},
   "outputs": [],
   "source": [
    "data = np.array(data)\n"
   ]
  },
  {
   "cell_type": "code",
   "execution_count": 5,
   "metadata": {},
   "outputs": [
    {
     "data": {
      "text/plain": [
       "(42000, 785)"
      ]
     },
     "execution_count": 5,
     "metadata": {},
     "output_type": "execute_result"
    }
   ],
   "source": [
    "data.shape"
   ]
  },
  {
   "cell_type": "code",
   "execution_count": null,
   "metadata": {},
   "outputs": [],
   "source": []
  },
  {
   "cell_type": "code",
   "execution_count": 6,
   "metadata": {},
   "outputs": [],
   "source": [
    "m, n = data.shape"
   ]
  },
  {
   "cell_type": "code",
   "execution_count": null,
   "metadata": {},
   "outputs": [],
   "source": []
  },
  {
   "cell_type": "code",
   "execution_count": 7,
   "metadata": {},
   "outputs": [
    {
     "data": {
      "text/plain": [
       "785"
      ]
     },
     "execution_count": 7,
     "metadata": {},
     "output_type": "execute_result"
    }
   ],
   "source": [
    "n"
   ]
  },
  {
   "cell_type": "code",
   "execution_count": 8,
   "metadata": {},
   "outputs": [],
   "source": [
    "np.random.shuffle(data)"
   ]
  },
  {
   "cell_type": "code",
   "execution_count": 9,
   "metadata": {},
   "outputs": [],
   "source": [
    "data_dev = data[0:1000].T\n",
    "Y_dev = data_dev[0]\n",
    "X_dev = data_dev[1:n]\n",
    "X_dev = X_dev/255"
   ]
  },
  {
   "cell_type": "code",
   "execution_count": 10,
   "metadata": {},
   "outputs": [
    {
     "data": {
      "text/plain": [
       "(785, 1000)"
      ]
     },
     "execution_count": 10,
     "metadata": {},
     "output_type": "execute_result"
    }
   ],
   "source": [
    "data_dev.shape"
   ]
  },
  {
   "cell_type": "code",
   "execution_count": 11,
   "metadata": {},
   "outputs": [
    {
     "data": {
      "text/plain": [
       "(1000,)"
      ]
     },
     "execution_count": 11,
     "metadata": {},
     "output_type": "execute_result"
    }
   ],
   "source": [
    "Y_dev.shape"
   ]
  },
  {
   "cell_type": "code",
   "execution_count": null,
   "metadata": {},
   "outputs": [],
   "source": []
  },
  {
   "cell_type": "code",
   "execution_count": 12,
   "metadata": {},
   "outputs": [
    {
     "data": {
      "text/plain": [
       "(784, 1000)"
      ]
     },
     "execution_count": 12,
     "metadata": {},
     "output_type": "execute_result"
    }
   ],
   "source": [
    "X_dev.shape"
   ]
  },
  {
   "cell_type": "code",
   "execution_count": 13,
   "metadata": {},
   "outputs": [],
   "source": [
    "data_train = data[1000:m].T\n",
    "Y_train = data_train[0]\n",
    "X_train = data_train[1:n]\n",
    "X_train = X_train/255"
   ]
  },
  {
   "cell_type": "code",
   "execution_count": 14,
   "metadata": {},
   "outputs": [
    {
     "data": {
      "text/plain": [
       "(784, 41000)"
      ]
     },
     "execution_count": 14,
     "metadata": {},
     "output_type": "execute_result"
    }
   ],
   "source": [
    "X_train.shape"
   ]
  },
  {
   "cell_type": "code",
   "execution_count": 15,
   "metadata": {},
   "outputs": [
    {
     "data": {
      "text/plain": [
       "(41000,)"
      ]
     },
     "execution_count": 15,
     "metadata": {},
     "output_type": "execute_result"
    }
   ],
   "source": [
    "Y_train.shape"
   ]
  },
  {
   "cell_type": "code",
   "execution_count": 16,
   "metadata": {},
   "outputs": [],
   "source": [
    "def init_params():\n",
    "    W1 = np.random.rand(10,784) - 0.5\n",
    "    b1 = np.random.rand(10,1) - 0.5\n",
    "    W2 = np.random.rand(10,10) - 0.5\n",
    "    b2 = np.random.rand(10,1) - 0.5\n",
    "    \n",
    "    return W1,b1,W2,b2\n",
    "    \n",
    "    "
   ]
  },
  {
   "cell_type": "code",
   "execution_count": 17,
   "metadata": {},
   "outputs": [],
   "source": [
    "def ReLU(Z):\n",
    "    return np.maximum(Z,0)"
   ]
  },
  {
   "cell_type": "code",
   "execution_count": 18,
   "metadata": {},
   "outputs": [],
   "source": [
    "def softmax(Z):\n",
    "    return np.exp(Z)/sum(np.exp(Z))"
   ]
  },
  {
   "cell_type": "code",
   "execution_count": 19,
   "metadata": {},
   "outputs": [],
   "source": [
    "def forward_prop(W1,b1,W2,b2,X):\n",
    "    Z1 =  W1.dot(X) + b1\n",
    "    A1 = ReLU(Z1)\n",
    "    Z2 = W2.dot(A1) + b2\n",
    "    A2 = softmax(Z2)\n",
    "    return Z1,A1,Z2,A2\n",
    "    "
   ]
  },
  {
   "cell_type": "code",
   "execution_count": 20,
   "metadata": {},
   "outputs": [],
   "source": [
    "def one_hot(Y):\n",
    "    one_hot_Y = np.zeros((len(Y_train), int(Y.max())+1))\n",
    "    one_hot_Y[np.arange(len(Y_train)) , Y] =1\n",
    "    one_hot_Y = one_hot_Y.T\n",
    "    return one_hot_Y"
   ]
  },
  {
   "cell_type": "code",
   "execution_count": 21,
   "metadata": {},
   "outputs": [
    {
     "data": {
      "text/plain": [
       "41000"
      ]
     },
     "execution_count": 21,
     "metadata": {},
     "output_type": "execute_result"
    }
   ],
   "source": [
    "len(Y_train)"
   ]
  },
  {
   "cell_type": "code",
   "execution_count": 22,
   "metadata": {},
   "outputs": [
    {
     "data": {
      "text/plain": [
       "41000"
      ]
     },
     "execution_count": 22,
     "metadata": {},
     "output_type": "execute_result"
    }
   ],
   "source": [
    "Y_train.size"
   ]
  },
  {
   "cell_type": "code",
   "execution_count": 23,
   "metadata": {},
   "outputs": [
    {
     "data": {
      "text/plain": [
       "9"
      ]
     },
     "execution_count": 23,
     "metadata": {},
     "output_type": "execute_result"
    }
   ],
   "source": [
    "Y_train.max()"
   ]
  },
  {
   "cell_type": "code",
   "execution_count": 24,
   "metadata": {},
   "outputs": [],
   "source": [
    "def deriv_ReLU(Z):\n",
    "    return Z > 0"
   ]
  },
  {
   "cell_type": "code",
   "execution_count": 25,
   "metadata": {},
   "outputs": [],
   "source": [
    "def back_prop(Z1,A1,Z2,A2,W1,W2,X,Y):\n",
    "    m = Y.size\n",
    "    one_hot_Y = one_hot(Y)\n",
    "    dZ2 = A2 -one_hot_Y\n",
    "    dW2 = 1/m * dZ2.dot(A1.T)\n",
    "    db2 = 1/m * np.sum(dZ2 , axis=1 , keepdims=True)\n",
    "    dZ1 = W2.T.dot(dZ2)*deriv_ReLU(Z1)\n",
    "    dW1 = 1/m * dZ1.dot(X.T)\n",
    "    db1 = 1/m * np.sum(dZ1, axis=1 , keepdims= True)\n",
    "    return dW1,db1,dW2,db2\n",
    "    "
   ]
  },
  {
   "cell_type": "code",
   "execution_count": 26,
   "metadata": {},
   "outputs": [],
   "source": [
    "def update_params(W1, b1, W2, b2, dW1, db1, dW2, db2, alpha):\n",
    "    W1 = W1 - alpha * dW1\n",
    "    b1 = b1 - alpha * db1    \n",
    "    W2 = W2 - alpha * dW2  \n",
    "    b2 = b2 - alpha * db2    \n",
    "    return W1, b1, W2, b2"
   ]
  },
  {
   "cell_type": "code",
   "execution_count": 27,
   "metadata": {},
   "outputs": [],
   "source": [
    "def get_predictions(A2):\n",
    "    return np.argmax(A2,0)"
   ]
  },
  {
   "cell_type": "code",
   "execution_count": 28,
   "metadata": {},
   "outputs": [],
   "source": [
    "def get_accuracy(predictions,Y):\n",
    "    print(predictions,Y)\n",
    "    return np.sum(predictions == Y) / Y.size"
   ]
  },
  {
   "cell_type": "code",
   "execution_count": 29,
   "metadata": {},
   "outputs": [],
   "source": [
    "def gradient_descent(X , Y , iterations , alpha):\n",
    "    W1,b1,W2,b2 = init_params()\n",
    "    for i in range(iterations):\n",
    "        Z1,A1,Z2,A2  = forward_prop(W1,b1,W2,b2,X)\n",
    "        dW1,db1,dW2,db2 = back_prop(Z1,A1,Z2,A2,W1,W2,X,Y)\n",
    "        W1, b1, W2, b2 = update_params(W1, b1, W2, b2, dW1, db1, dW2, db2, alpha)\n",
    "        \n",
    "        if i%10 == 0:\n",
    "            print('Iteration: ' , i)\n",
    "            print(\"Accuracy: \", get_accuracy(get_predictions(A2),Y))\n",
    "    \n",
    "    return  W1,b1,W2,b2\n",
    "        "
   ]
  },
  {
   "cell_type": "code",
   "execution_count": 30,
   "metadata": {},
   "outputs": [
    {
     "name": "stdout",
     "output_type": "stream",
     "text": [
      "Iteration:  0\n",
      "[5 4 5 ... 4 4 4] [1 0 8 ... 5 0 8]\n",
      "Accuracy:  0.0638780487804878\n",
      "Iteration:  10\n",
      "[1 4 3 ... 0 4 0] [1 0 8 ... 5 0 8]\n",
      "Accuracy:  0.15797560975609756\n",
      "Iteration:  20\n",
      "[1 0 3 ... 0 0 0] [1 0 8 ... 5 0 8]\n",
      "Accuracy:  0.2223170731707317\n",
      "Iteration:  30\n",
      "[1 0 3 ... 0 0 0] [1 0 8 ... 5 0 8]\n",
      "Accuracy:  0.27\n",
      "Iteration:  40\n",
      "[1 0 3 ... 0 0 0] [1 0 8 ... 5 0 8]\n",
      "Accuracy:  0.31995121951219513\n",
      "Iteration:  50\n",
      "[1 0 3 ... 0 0 0] [1 0 8 ... 5 0 8]\n",
      "Accuracy:  0.36821951219512195\n",
      "Iteration:  60\n",
      "[1 0 8 ... 0 0 0] [1 0 8 ... 5 0 8]\n",
      "Accuracy:  0.41068292682926827\n",
      "Iteration:  70\n",
      "[1 0 8 ... 0 0 4] [1 0 8 ... 5 0 8]\n",
      "Accuracy:  0.4444390243902439\n",
      "Iteration:  80\n",
      "[1 0 8 ... 0 0 4] [1 0 8 ... 5 0 8]\n",
      "Accuracy:  0.48390243902439023\n",
      "Iteration:  90\n",
      "[1 0 8 ... 0 0 4] [1 0 8 ... 5 0 8]\n",
      "Accuracy:  0.5272439024390244\n",
      "Iteration:  100\n",
      "[1 0 8 ... 0 0 4] [1 0 8 ... 5 0 8]\n",
      "Accuracy:  0.5642439024390243\n",
      "Iteration:  110\n",
      "[1 0 8 ... 0 0 4] [1 0 8 ... 5 0 8]\n",
      "Accuracy:  0.5949512195121951\n",
      "Iteration:  120\n",
      "[1 0 8 ... 0 0 4] [1 0 8 ... 5 0 8]\n",
      "Accuracy:  0.6195365853658537\n",
      "Iteration:  130\n",
      "[1 0 8 ... 5 0 4] [1 0 8 ... 5 0 8]\n",
      "Accuracy:  0.6419268292682927\n",
      "Iteration:  140\n",
      "[1 0 8 ... 5 0 5] [1 0 8 ... 5 0 8]\n",
      "Accuracy:  0.6594390243902439\n",
      "Iteration:  150\n",
      "[1 0 8 ... 5 0 5] [1 0 8 ... 5 0 8]\n",
      "Accuracy:  0.6760975609756098\n",
      "Iteration:  160\n",
      "[1 0 8 ... 5 0 5] [1 0 8 ... 5 0 8]\n",
      "Accuracy:  0.6902195121951219\n",
      "Iteration:  170\n",
      "[1 0 8 ... 5 0 5] [1 0 8 ... 5 0 8]\n",
      "Accuracy:  0.7032195121951219\n",
      "Iteration:  180\n",
      "[1 0 8 ... 5 0 5] [1 0 8 ... 5 0 8]\n",
      "Accuracy:  0.7153170731707317\n",
      "Iteration:  190\n",
      "[1 0 8 ... 5 0 5] [1 0 8 ... 5 0 8]\n",
      "Accuracy:  0.7260243902439024\n",
      "Iteration:  200\n",
      "[1 0 8 ... 5 0 5] [1 0 8 ... 5 0 8]\n",
      "Accuracy:  0.7349268292682927\n",
      "Iteration:  210\n",
      "[1 0 8 ... 5 0 5] [1 0 8 ... 5 0 8]\n",
      "Accuracy:  0.743390243902439\n",
      "Iteration:  220\n",
      "[1 0 8 ... 5 0 5] [1 0 8 ... 5 0 8]\n",
      "Accuracy:  0.7514878048780488\n",
      "Iteration:  230\n",
      "[1 0 8 ... 5 0 5] [1 0 8 ... 5 0 8]\n",
      "Accuracy:  0.758390243902439\n",
      "Iteration:  240\n",
      "[1 0 8 ... 5 0 5] [1 0 8 ... 5 0 8]\n",
      "Accuracy:  0.7648292682926829\n",
      "Iteration:  250\n",
      "[1 0 8 ... 5 0 5] [1 0 8 ... 5 0 8]\n",
      "Accuracy:  0.7707317073170732\n",
      "Iteration:  260\n",
      "[1 0 8 ... 5 0 5] [1 0 8 ... 5 0 8]\n",
      "Accuracy:  0.7767073170731708\n",
      "Iteration:  270\n",
      "[1 0 8 ... 5 0 5] [1 0 8 ... 5 0 8]\n",
      "Accuracy:  0.7821707317073171\n",
      "Iteration:  280\n",
      "[1 0 8 ... 5 0 5] [1 0 8 ... 5 0 8]\n",
      "Accuracy:  0.7868048780487805\n",
      "Iteration:  290\n",
      "[1 0 8 ... 5 0 5] [1 0 8 ... 5 0 8]\n",
      "Accuracy:  0.7912926829268293\n",
      "Iteration:  300\n",
      "[1 0 8 ... 5 0 5] [1 0 8 ... 5 0 8]\n",
      "Accuracy:  0.7950731707317074\n",
      "Iteration:  310\n",
      "[1 0 8 ... 5 0 5] [1 0 8 ... 5 0 8]\n",
      "Accuracy:  0.7993902439024391\n",
      "Iteration:  320\n",
      "[1 0 8 ... 5 0 5] [1 0 8 ... 5 0 8]\n",
      "Accuracy:  0.8031463414634147\n",
      "Iteration:  330\n",
      "[1 0 8 ... 5 0 5] [1 0 8 ... 5 0 8]\n",
      "Accuracy:  0.8066585365853659\n",
      "Iteration:  340\n",
      "[1 0 8 ... 5 0 5] [1 0 8 ... 5 0 8]\n",
      "Accuracy:  0.8097317073170732\n",
      "Iteration:  350\n",
      "[1 0 8 ... 5 0 5] [1 0 8 ... 5 0 8]\n",
      "Accuracy:  0.8126341463414634\n",
      "Iteration:  360\n",
      "[1 0 8 ... 5 0 5] [1 0 8 ... 5 0 8]\n",
      "Accuracy:  0.815780487804878\n",
      "Iteration:  370\n",
      "[1 0 8 ... 5 0 5] [1 0 8 ... 5 0 8]\n",
      "Accuracy:  0.818170731707317\n",
      "Iteration:  380\n",
      "[1 0 8 ... 5 0 5] [1 0 8 ... 5 0 8]\n",
      "Accuracy:  0.820390243902439\n",
      "Iteration:  390\n",
      "[1 0 8 ... 5 0 5] [1 0 8 ... 5 0 8]\n",
      "Accuracy:  0.8224390243902439\n",
      "Iteration:  400\n",
      "[1 0 8 ... 5 0 5] [1 0 8 ... 5 0 8]\n",
      "Accuracy:  0.8248536585365853\n",
      "Iteration:  410\n",
      "[1 0 8 ... 5 0 8] [1 0 8 ... 5 0 8]\n",
      "Accuracy:  0.8273658536585365\n",
      "Iteration:  420\n",
      "[1 0 8 ... 5 0 8] [1 0 8 ... 5 0 8]\n",
      "Accuracy:  0.8294146341463414\n",
      "Iteration:  430\n",
      "[1 0 8 ... 5 0 8] [1 0 8 ... 5 0 8]\n",
      "Accuracy:  0.8316097560975609\n",
      "Iteration:  440\n",
      "[1 0 8 ... 5 0 8] [1 0 8 ... 5 0 8]\n",
      "Accuracy:  0.8332195121951219\n",
      "Iteration:  450\n",
      "[1 0 8 ... 5 0 8] [1 0 8 ... 5 0 8]\n",
      "Accuracy:  0.8349756097560975\n",
      "Iteration:  460\n",
      "[1 0 8 ... 5 0 8] [1 0 8 ... 5 0 8]\n",
      "Accuracy:  0.8365121951219512\n",
      "Iteration:  470\n",
      "[1 0 8 ... 5 0 8] [1 0 8 ... 5 0 8]\n",
      "Accuracy:  0.8382926829268292\n",
      "Iteration:  480\n",
      "[1 0 8 ... 5 0 8] [1 0 8 ... 5 0 8]\n",
      "Accuracy:  0.8396829268292683\n",
      "Iteration:  490\n",
      "[1 0 8 ... 5 0 8] [1 0 8 ... 5 0 8]\n",
      "Accuracy:  0.8410731707317073\n"
     ]
    }
   ],
   "source": [
    "W1,b1,W2,b2 = gradient_descent(X_train , Y_train , 500 , 0.1)"
   ]
  },
  {
   "cell_type": "code",
   "execution_count": 31,
   "metadata": {},
   "outputs": [],
   "source": [
    "def make_predictions(X, W1, b1, W2, b2):\n",
    "    _, _, _, A2 = forward_prop(W1, b1, W2, b2, X)\n",
    "    predictions = get_predictions(A2)\n",
    "    return predictions\n",
    "\n",
    "def test_prediction(index, W1, b1, W2, b2):\n",
    "    current_image = X_train[:, index, None]\n",
    "    prediction = make_predictions(X_train[:, index, None], W1, b1, W2, b2)\n",
    "    label = Y_train[index]\n",
    "    print(\"Prediction: \", prediction)\n",
    "    print(\"Label: \", label)\n",
    "    \n",
    "    current_image = current_image.reshape((28, 28)) * 255\n",
    "    plt.gray()\n",
    "    plt.imshow(current_image, interpolation='nearest')\n",
    "    plt.show()"
   ]
  },
  {
   "cell_type": "code",
   "execution_count": 32,
   "metadata": {},
   "outputs": [
    {
     "name": "stdout",
     "output_type": "stream",
     "text": [
      "Prediction:  [1]\n",
      "Label:  1\n"
     ]
    },
    {
     "data": {
      "image/png": "[encoded data removed]",
      "text/plain": [
       "<Figure size 432x288 with 1 Axes>"
      ]
     },
     "metadata": {
      "needs_background": "light"
     },
     "output_type": "display_data"
    },
    {
     "name": "stdout",
     "output_type": "stream",
     "text": [
      "Prediction:  [0]\n",
      "Label:  0\n"
     ]
    },
    {
     "data": {
      "image/png": "[encoded data removed]",
      "text/plain": [
       "<Figure size 432x288 with 1 Axes>"
      ]
     },
     "metadata": {
      "needs_background": "light"
     },
     "output_type": "display_data"
    },
    {
     "name": "stdout",
     "output_type": "stream",
     "text": [
      "Prediction:  [8]\n",
      "Label:  8\n"
     ]
    },
    {
     "data": {
      "image/png": "[encoded data removed]",
      "text/plain": [
       "<Figure size 432x288 with 1 Axes>"
      ]
     },
     "metadata": {
      "needs_background": "light"
     },
     "output_type": "display_data"
    },
    {
     "name": "stdout",
     "output_type": "stream",
     "text": [
      "Prediction:  [1]\n",
      "Label:  1\n"
     ]
    },
    {
     "data": {
      "image/png": "[encoded data removed]",
      "text/plain": [
       "<Figure size 432x288 with 1 Axes>"
      ]
     },
     "metadata": {
      "needs_background": "light"
     },
     "output_type": "display_data"
    }
   ],
   "source": [
    "test_prediction(0, W1, b1, W2, b2)\n",
    "test_prediction(1, W1, b1, W2, b2)\n",
    "test_prediction(2, W1, b1, W2, b2)\n",
    "test_prediction(3, W1, b1, W2, b2)"
   ]
  },
  {
   "cell_type": "code",
   "execution_count": 33,
   "metadata": {},
   "outputs": [
    {
     "name": "stdout",
     "output_type": "stream",
     "text": [
      "[0 3 4 2 2 0 5 0 0 7 1 6 6 1 3 2 8 8 0 4 2 7 7 2 8 5 5 8 6 6 2 1 8 3 3 2 0\n",
      " 9 2 7 6 7 6 5 7 5 2 1 1 2 7 3 7 7 4 6 6 7 0 7 2 2 1 7 0 0 7 4 1 9 3 0 2 3\n",
      " 2 1 2 7 1 9 5 9 1 7 6 8 4 9 8 0 0 2 4 8 2 7 1 8 7 8 5 7 3 5 3 9 9 8 0 9 6\n",
      " 5 9 2 4 7 9 1 5 2 1 8 2 8 8 7 3 1 1 4 4 9 1 6 0 2 7 3 1 4 1 2 6 8 7 6 5 2\n",
      " 6 0 1 0 6 0 3 4 0 5 9 3 5 7 4 1 0 9 3 4 8 6 9 6 1 8 8 3 9 9 4 0 5 2 3 2 3\n",
      " 2 5 4 6 9 2 9 3 5 7 6 1 9 5 3 2 4 0 2 8 3 0 2 5 8 2 8 7 8 4 6 7 8 6 9 2 9\n",
      " 1 9 4 5 1 6 2 4 0 5 7 2 5 6 3 0 5 8 8 5 6 1 4 8 1 2 5 0 9 7 8 1 0 4 2 2 9\n",
      " 4 5 8 9 8 5 2 7 1 6 0 9 8 6 2 1 3 5 6 1 9 6 2 5 9 9 7 1 1 6 0 1 5 1 2 7 8\n",
      " 9 2 4 6 8 8 9 1 4 9 6 2 7 7 8 8 0 5 7 9 1 0 0 4 0 5 3 9 1 8 4 0 2 7 4 8 8\n",
      " 3 6 4 0 1 4 1 1 1 9 5 2 4 9 7 0 9 8 6 3 5 8 2 2 4 6 8 7 8 3 2 7 6 0 2 2 6\n",
      " 1 0 0 2 0 7 7 4 1 7 5 2 1 5 9 1 5 3 1 5 5 5 1 5 4 4 1 3 3 9 9 9 3 8 1 3 3\n",
      " 9 4 6 9 9 1 6 4 2 2 0 3 6 0 1 4 2 9 1 7 5 6 5 7 0 6 8 6 6 5 5 6 0 3 7 6 1\n",
      " 5 7 5 4 8 2 7 7 0 3 1 1 5 0 4 4 4 4 4 7 0 6 1 6 9 9 2 9 1 3 8 6 1 8 6 6 6\n",
      " 5 3 0 7 8 0 4 9 7 9 2 1 7 6 2 7 5 6 8 1 9 6 6 2 2 6 0 1 2 8 4 3 3 7 3 6 7\n",
      " 8 0 1 3 3 0 8 4 8 1 8 4 8 8 4 3 9 1 9 1 0 1 6 6 8 5 8 3 1 1 3 8 1 4 9 3 1\n",
      " 1 7 0 3 1 2 3 1 0 7 8 1 1 7 3 5 8 8 6 9 1 1 8 1 0 1 4 9 3 9 8 3 6 9 9 1 2\n",
      " 2 5 6 4 8 1 4 8 8 5 9 6 3 3 1 6 4 1 9 7 4 3 0 6 9 5 7 5 4 5 5 7 7 2 3 4 4\n",
      " 1 7 5 3 4 4 2 0 4 4 3 3 8 6 1 3 2 9 4 7 6 2 4 2 1 7 0 1 1 6 0 9 6 4 9 7 3\n",
      " 1 8 3 1 2 0 9 9 6 6 6 7 9 0 8 7 2 0 0 8 9 4 1 2 6 7 2 5 4 7 5 6 1 6 3 1 1\n",
      " 0 4 5 8 2 9 6 2 5 4 9 1 2 2 6 8 2 7 6 4 4 4 8 0 7 6 8 0 6 3 6 5 2 8 7 3 8\n",
      " 0 3 8 7 0 4 8 9 1 3 8 5 1 2 6 2 9 0 4 5 8 6 5 9 6 2 5 8 3 7 1 8 3 7 0 3 3\n",
      " 5 8 8 8 9 9 2 8 4 4 9 7 6 0 7 7 8 1 9 8 0 8 1 6 7 4 2 8 1 3 4 4 6 2 2 6 6\n",
      " 7 1 7 9 9 1 5 2 7 0 5 9 2 0 7 5 3 3 3 4 7 1 6 4 1 0 0 1 7 7 5 2 7 6 2 3 7\n",
      " 3 8 5 2 7 7 5 1 9 9 2 9 3 2 9 7 3 6 3 3 9 9 1 8 8 1 1 6 3 6 0 2 6 2 8 3 6\n",
      " 9 9 0 0 8 5 1 9 5 4 4 4 4 1 5 5 0 1 4 9 6 9 1 6 1 4 6 4 9 1 7 8 2 7 8 2 1\n",
      " 4 2 3 1 9 3 3 4 1 0 3 1 9 9 2 6 2 8 4 3 6 1 8 7 9 7 2 9 7 6 6 7 0 2 9 2 0\n",
      " 0 2 6 1 3 3 8 8 5 5 2 7 7 8 9 1 3 0 9 2 2 2 2 3 1 4 1 2 9 0 6 8 9 0 3 6 3\n",
      " 2] [0 3 4 2 2 0 5 0 0 7 1 6 6 1 3 2 4 8 0 4 2 7 7 2 8 3 8 8 5 6 2 1 8 3 8 2 0\n",
      " 9 2 7 6 3 6 7 7 2 2 1 1 2 7 3 7 7 8 6 6 9 0 7 2 2 1 7 7 0 7 4 1 9 3 0 8 3\n",
      " 3 1 2 7 1 9 5 9 1 7 6 8 4 9 8 0 0 6 4 8 2 7 1 8 7 7 3 7 3 5 3 9 9 8 0 9 6\n",
      " 5 9 2 8 7 9 1 5 2 1 8 2 8 8 1 3 1 3 4 8 8 1 6 0 2 7 3 1 4 1 2 6 8 7 6 5 2\n",
      " 6 0 2 0 6 0 3 9 0 3 9 3 5 7 4 1 0 9 3 4 8 6 4 6 1 8 8 3 9 9 4 0 5 2 3 2 3\n",
      " 2 5 4 6 9 2 4 3 5 7 6 1 9 5 3 2 4 0 2 8 3 0 0 3 6 2 8 9 8 4 5 9 8 6 4 2 0\n",
      " 1 9 4 1 1 6 2 4 2 5 7 2 5 6 3 0 5 8 8 2 6 1 4 1 1 2 8 0 9 7 8 1 0 4 2 2 9\n",
      " 4 5 8 9 8 5 2 7 1 6 0 9 8 6 2 1 3 5 6 1 9 6 2 5 9 3 7 1 1 6 0 1 3 1 2 7 8\n",
      " 9 2 9 6 8 8 9 1 4 9 6 3 7 7 8 3 0 5 7 9 1 0 5 4 0 5 8 9 1 8 4 0 5 7 8 8 8\n",
      " 3 6 4 0 1 4 1 1 1 9 5 2 4 9 7 0 9 8 6 3 5 5 2 2 4 6 8 7 8 3 2 7 6 0 2 2 6\n",
      " 1 0 0 2 0 7 7 9 1 7 5 2 1 9 9 1 8 3 1 5 5 5 1 5 4 4 1 3 3 9 4 9 3 8 1 3 3\n",
      " 7 4 6 4 7 1 6 9 6 2 3 3 5 0 1 6 2 9 1 7 5 6 5 7 0 6 8 6 6 5 5 6 0 3 7 6 8\n",
      " 5 7 5 4 5 2 7 7 0 8 1 1 3 0 9 9 4 4 4 7 0 6 1 8 7 9 2 9 1 3 8 6 1 8 6 2 6\n",
      " 5 3 0 7 8 0 4 9 7 9 2 1 7 6 2 7 5 6 8 3 9 6 6 2 2 6 0 1 8 8 6 5 3 7 3 3 7\n",
      " 8 0 1 3 2 0 8 4 8 5 8 4 8 8 4 5 9 1 9 1 0 1 6 5 8 5 8 5 1 1 3 8 1 4 9 3 1\n",
      " 8 7 0 3 1 2 3 1 0 7 5 1 1 7 3 5 8 8 6 9 1 1 8 7 0 1 4 9 3 9 8 3 6 9 9 1 2\n",
      " 2 3 2 4 8 1 9 8 8 8 9 6 3 3 1 6 5 1 9 7 4 3 6 6 9 5 7 5 4 5 5 7 9 2 3 4 4\n",
      " 1 7 8 3 2 4 2 0 4 4 5 3 8 6 1 3 2 9 4 7 2 2 4 2 1 7 0 1 1 6 0 9 6 4 4 7 3\n",
      " 5 4 3 1 3 5 4 9 0 6 6 2 8 0 8 7 2 0 7 8 9 4 2 2 6 7 2 5 9 7 5 6 1 6 3 1 1\n",
      " 0 4 7 9 2 9 6 2 5 4 9 1 2 2 6 8 3 7 8 5 4 4 8 0 7 6 8 0 0 3 6 5 2 4 7 3 8\n",
      " 0 3 8 7 0 4 8 9 7 3 8 5 1 2 6 2 9 0 4 5 5 6 3 9 6 1 3 8 3 7 1 8 3 7 0 5 5\n",
      " 3 8 8 8 3 9 2 8 4 4 9 7 8 8 7 7 8 1 9 8 0 8 1 6 7 4 2 8 8 3 4 4 6 2 2 8 6\n",
      " 7 1 7 9 9 1 5 2 7 0 5 9 3 7 7 5 3 3 3 4 9 1 0 4 1 0 0 1 7 7 8 2 7 6 2 3 7\n",
      " 3 8 3 2 7 2 5 1 9 9 2 9 3 3 9 7 3 6 3 3 7 4 1 8 8 1 1 6 3 6 0 2 6 2 8 3 2\n",
      " 9 9 5 0 8 5 1 9 5 4 4 4 4 1 2 5 0 1 4 7 6 9 1 6 1 4 5 4 9 1 7 4 7 7 8 2 1\n",
      " 4 2 3 1 7 3 3 4 1 0 3 1 9 9 2 6 3 8 4 3 6 1 8 7 7 7 2 4 7 6 6 9 0 2 8 2 5\n",
      " 0 7 6 1 8 3 8 7 5 8 2 7 7 8 9 1 3 0 3 3 2 2 2 3 1 4 1 9 9 0 6 2 7 0 3 6 3\n",
      " 2]\n"
     ]
    },
    {
     "data": {
      "text/plain": [
       "0.841"
      ]
     },
     "execution_count": 33,
     "metadata": {},
     "output_type": "execute_result"
    }
   ],
   "source": [
    "dev_predictions = make_predictions(X_dev, W1, b1, W2, b2)\n",
    "get_accuracy(dev_predictions, Y_dev)"
   ]
  },
  {
   "cell_type": "code",
   "execution_count": null,
   "metadata": {},
   "outputs": [],
   "source": []
  }
 ],
 "metadata": {
  "kernelspec": {
   "display_name": "Python 3",
   "language": "python",
   "name": "python3"
  },
  "language_info": {
   "codemirror_mode": {
    "name": "ipython",
    "version": 3
   },
   "file_extension": ".py",
   "mimetype": "text/x-python",
   "name": "python",
   "nbconvert_exporter": "python",
   "pygments_lexer": "ipython3",
   "version": "3.8.5"
  }
 },
 "nbformat": 4,
 "nbformat_minor": 4
}
